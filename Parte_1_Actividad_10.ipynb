{
  "nbformat": 4,
  "nbformat_minor": 0,
  "metadata": {
    "colab": {
      "provenance": [],
      "toc_visible": true
    },
    "kernelspec": {
      "name": "python3",
      "display_name": "Python 3"
    },
    "language_info": {
      "name": "python"
    }
  },
  "cells": [
    {
      "cell_type": "markdown",
      "source": [
        "Taller 1\n",
        "Leidy Lorena Pulido\n",
        "\n",
        "CC **1015468709**"
      ],
      "metadata": {
        "id": "NW_3npiirrk8"
      }
    },
    {
      "cell_type": "code",
      "source": [
        "!pip install sodapy"
      ],
      "metadata": {
        "colab": {
          "base_uri": "https://localhost:8080/"
        },
        "id": "lsolTRwBSmvC",
        "outputId": "c107eb2f-e199-4df1-def7-5c658044b5dd"
      },
      "execution_count": 4,
      "outputs": [
        {
          "output_type": "stream",
          "name": "stdout",
          "text": [
            "Looking in indexes: https://pypi.org/simple, https://us-python.pkg.dev/colab-wheels/public/simple/\n",
            "Requirement already satisfied: sodapy in /usr/local/lib/python3.10/dist-packages (2.2.0)\n",
            "Requirement already satisfied: requests>=2.28.1 in /usr/local/lib/python3.10/dist-packages (from sodapy) (2.31.0)\n",
            "Requirement already satisfied: charset-normalizer<4,>=2 in /usr/local/lib/python3.10/dist-packages (from requests>=2.28.1->sodapy) (2.0.12)\n",
            "Requirement already satisfied: idna<4,>=2.5 in /usr/local/lib/python3.10/dist-packages (from requests>=2.28.1->sodapy) (3.4)\n",
            "Requirement already satisfied: urllib3<3,>=1.21.1 in /usr/local/lib/python3.10/dist-packages (from requests>=2.28.1->sodapy) (1.26.15)\n",
            "Requirement already satisfied: certifi>=2017.4.17 in /usr/local/lib/python3.10/dist-packages (from requests>=2.28.1->sodapy) (2022.12.7)\n"
          ]
        }
      ]
    },
    {
      "cell_type": "code",
      "source": [
        "#punto 1 cargar de forma remota\n",
        "import pandas as pd\n",
        "import numpy as np\n",
        "import matplotlib.pyplot as plt\n",
        "from sodapy import Socrata\n",
        "cliente=Socrata ('www.datos.gov.co', None )\n",
        "result=cliente.get('32sa-8pi3')\n",
        "dftrm=pd.DataFrame.from_records(result)\n",
        "dftrm.head()\n"
      ],
      "metadata": {
        "colab": {
          "base_uri": "https://localhost:8080/",
          "height": 224
        },
        "id": "rvnPmy5ISRlK",
        "outputId": "a1706cf4-a0f9-4f1f-e6cd-8cd4fad5e962"
      },
      "execution_count": 5,
      "outputs": [
        {
          "output_type": "stream",
          "name": "stderr",
          "text": [
            "WARNING:root:Requests made without an app_token will be subject to strict throttling limits.\n"
          ]
        },
        {
          "output_type": "execute_result",
          "data": {
            "text/plain": [
              "     valor unidad            vigenciadesde            vigenciahasta\n",
              "0  4761.64    COP  2022-12-22T00:00:00.000  2022-12-22T00:00:00.000\n",
              "1  4781.28    COP  2022-12-20T00:00:00.000  2022-12-20T00:00:00.000\n",
              "2  4802.48    COP  2022-12-17T00:00:00.000  2022-12-19T00:00:00.000\n",
              "3  4836.24    COP  2022-12-13T00:00:00.000  2022-12-13T00:00:00.000\n",
              "4  4815.99    COP  2022-12-10T00:00:00.000  2022-12-12T00:00:00.000"
            ],
            "text/html": [
              "\n",
              "  <div id=\"df-75cbadf4-194d-474b-ba5d-547b5e8edb97\">\n",
              "    <div class=\"colab-df-container\">\n",
              "      <div>\n",
              "<style scoped>\n",
              "    .dataframe tbody tr th:only-of-type {\n",
              "        vertical-align: middle;\n",
              "    }\n",
              "\n",
              "    .dataframe tbody tr th {\n",
              "        vertical-align: top;\n",
              "    }\n",
              "\n",
              "    .dataframe thead th {\n",
              "        text-align: right;\n",
              "    }\n",
              "</style>\n",
              "<table border=\"1\" class=\"dataframe\">\n",
              "  <thead>\n",
              "    <tr style=\"text-align: right;\">\n",
              "      <th></th>\n",
              "      <th>valor</th>\n",
              "      <th>unidad</th>\n",
              "      <th>vigenciadesde</th>\n",
              "      <th>vigenciahasta</th>\n",
              "    </tr>\n",
              "  </thead>\n",
              "  <tbody>\n",
              "    <tr>\n",
              "      <th>0</th>\n",
              "      <td>4761.64</td>\n",
              "      <td>COP</td>\n",
              "      <td>2022-12-22T00:00:00.000</td>\n",
              "      <td>2022-12-22T00:00:00.000</td>\n",
              "    </tr>\n",
              "    <tr>\n",
              "      <th>1</th>\n",
              "      <td>4781.28</td>\n",
              "      <td>COP</td>\n",
              "      <td>2022-12-20T00:00:00.000</td>\n",
              "      <td>2022-12-20T00:00:00.000</td>\n",
              "    </tr>\n",
              "    <tr>\n",
              "      <th>2</th>\n",
              "      <td>4802.48</td>\n",
              "      <td>COP</td>\n",
              "      <td>2022-12-17T00:00:00.000</td>\n",
              "      <td>2022-12-19T00:00:00.000</td>\n",
              "    </tr>\n",
              "    <tr>\n",
              "      <th>3</th>\n",
              "      <td>4836.24</td>\n",
              "      <td>COP</td>\n",
              "      <td>2022-12-13T00:00:00.000</td>\n",
              "      <td>2022-12-13T00:00:00.000</td>\n",
              "    </tr>\n",
              "    <tr>\n",
              "      <th>4</th>\n",
              "      <td>4815.99</td>\n",
              "      <td>COP</td>\n",
              "      <td>2022-12-10T00:00:00.000</td>\n",
              "      <td>2022-12-12T00:00:00.000</td>\n",
              "    </tr>\n",
              "  </tbody>\n",
              "</table>\n",
              "</div>\n",
              "      <button class=\"colab-df-convert\" onclick=\"convertToInteractive('df-75cbadf4-194d-474b-ba5d-547b5e8edb97')\"\n",
              "              title=\"Convert this dataframe to an interactive table.\"\n",
              "              style=\"display:none;\">\n",
              "        \n",
              "  <svg xmlns=\"http://www.w3.org/2000/svg\" height=\"24px\"viewBox=\"0 0 24 24\"\n",
              "       width=\"24px\">\n",
              "    <path d=\"M0 0h24v24H0V0z\" fill=\"none\"/>\n",
              "    <path d=\"M18.56 5.44l.94 2.06.94-2.06 2.06-.94-2.06-.94-.94-2.06-.94 2.06-2.06.94zm-11 1L8.5 8.5l.94-2.06 2.06-.94-2.06-.94L8.5 2.5l-.94 2.06-2.06.94zm10 10l.94 2.06.94-2.06 2.06-.94-2.06-.94-.94-2.06-.94 2.06-2.06.94z\"/><path d=\"M17.41 7.96l-1.37-1.37c-.4-.4-.92-.59-1.43-.59-.52 0-1.04.2-1.43.59L10.3 9.45l-7.72 7.72c-.78.78-.78 2.05 0 2.83L4 21.41c.39.39.9.59 1.41.59.51 0 1.02-.2 1.41-.59l7.78-7.78 2.81-2.81c.8-.78.8-2.07 0-2.86zM5.41 20L4 18.59l7.72-7.72 1.47 1.35L5.41 20z\"/>\n",
              "  </svg>\n",
              "      </button>\n",
              "      \n",
              "  <style>\n",
              "    .colab-df-container {\n",
              "      display:flex;\n",
              "      flex-wrap:wrap;\n",
              "      gap: 12px;\n",
              "    }\n",
              "\n",
              "    .colab-df-convert {\n",
              "      background-color: #E8F0FE;\n",
              "      border: none;\n",
              "      border-radius: 50%;\n",
              "      cursor: pointer;\n",
              "      display: none;\n",
              "      fill: #1967D2;\n",
              "      height: 32px;\n",
              "      padding: 0 0 0 0;\n",
              "      width: 32px;\n",
              "    }\n",
              "\n",
              "    .colab-df-convert:hover {\n",
              "      background-color: #E2EBFA;\n",
              "      box-shadow: 0px 1px 2px rgba(60, 64, 67, 0.3), 0px 1px 3px 1px rgba(60, 64, 67, 0.15);\n",
              "      fill: #174EA6;\n",
              "    }\n",
              "\n",
              "    [theme=dark] .colab-df-convert {\n",
              "      background-color: #3B4455;\n",
              "      fill: #D2E3FC;\n",
              "    }\n",
              "\n",
              "    [theme=dark] .colab-df-convert:hover {\n",
              "      background-color: #434B5C;\n",
              "      box-shadow: 0px 1px 3px 1px rgba(0, 0, 0, 0.15);\n",
              "      filter: drop-shadow(0px 1px 2px rgba(0, 0, 0, 0.3));\n",
              "      fill: #FFFFFF;\n",
              "    }\n",
              "  </style>\n",
              "\n",
              "      <script>\n",
              "        const buttonEl =\n",
              "          document.querySelector('#df-75cbadf4-194d-474b-ba5d-547b5e8edb97 button.colab-df-convert');\n",
              "        buttonEl.style.display =\n",
              "          google.colab.kernel.accessAllowed ? 'block' : 'none';\n",
              "\n",
              "        async function convertToInteractive(key) {\n",
              "          const element = document.querySelector('#df-75cbadf4-194d-474b-ba5d-547b5e8edb97');\n",
              "          const dataTable =\n",
              "            await google.colab.kernel.invokeFunction('convertToInteractive',\n",
              "                                                     [key], {});\n",
              "          if (!dataTable) return;\n",
              "\n",
              "          const docLinkHtml = 'Like what you see? Visit the ' +\n",
              "            '<a target=\"_blank\" href=https://colab.research.google.com/notebooks/data_table.ipynb>data table notebook</a>'\n",
              "            + ' to learn more about interactive tables.';\n",
              "          element.innerHTML = '';\n",
              "          dataTable['output_type'] = 'display_data';\n",
              "          await google.colab.output.renderOutput(dataTable, element);\n",
              "          const docLink = document.createElement('div');\n",
              "          docLink.innerHTML = docLinkHtml;\n",
              "          element.appendChild(docLink);\n",
              "        }\n",
              "      </script>\n",
              "    </div>\n",
              "  </div>\n",
              "  "
            ]
          },
          "metadata": {},
          "execution_count": 5
        }
      ]
    },
    {
      "cell_type": "code",
      "source": [
        "Valor=pd.to_numeric(dftrm['valor'],errors='coerce')\n",
        "print(Valor)"
      ],
      "metadata": {
        "colab": {
          "base_uri": "https://localhost:8080/"
        },
        "id": "xKMgCbwZUXOV",
        "outputId": "41594f25-6c11-412e-851d-61e906e6ea92"
      },
      "execution_count": 8,
      "outputs": [
        {
          "output_type": "stream",
          "name": "stdout",
          "text": [
            "0      4761.64\n",
            "1      4781.28\n",
            "2      4802.48\n",
            "3      4836.24\n",
            "4      4815.99\n",
            "        ...   \n",
            "995    1978.63\n",
            "996    1993.85\n",
            "997    1998.60\n",
            "998    2017.38\n",
            "999    2034.86\n",
            "Name: valor, Length: 1000, dtype: float64\n"
          ]
        }
      ]
    },
    {
      "cell_type": "code",
      "source": [
        "Fecha=pd.to_datetime(dftrm['vigenciadesde'], errors='raise', dayfirst=False, yearfirst=True, utc=None, format=None, exact=True, unit=None, infer_datetime_format=False, origin='unix', cache=True)\n",
        "print(Fecha)"
      ],
      "metadata": {
        "colab": {
          "base_uri": "https://localhost:8080/"
        },
        "id": "Ws-q2tJuylhl",
        "outputId": "290deb43-2294-4dde-f12f-af81a99d0a57"
      },
      "execution_count": 14,
      "outputs": [
        {
          "output_type": "stream",
          "name": "stdout",
          "text": [
            "0     2022-12-22\n",
            "1     2022-12-20\n",
            "2     2022-12-17\n",
            "3     2022-12-13\n",
            "4     2022-12-10\n",
            "         ...    \n",
            "995   2014-03-26\n",
            "996   2014-03-22\n",
            "997   2014-03-21\n",
            "998   2014-03-20\n",
            "999   2014-03-19\n",
            "Name: vigenciadesde, Length: 1000, dtype: datetime64[ns]\n"
          ]
        }
      ]
    },
    {
      "cell_type": "code",
      "source": [
        "#Punto 2\n",
        "print('El valor de la media es:     ', round(np.mean(Valor),3))\n",
        "print('El valor de la Mediana es:     ', round(np.median(Valor),3))\n",
        "print('El valor de la Desviacion estandar es:     ', round(np.std(Valor),3))\n",
        "print('El valor del Maximo es:     ', round(np.max(Valor),3))\n",
        "print('El valor del Minimo es:     ', round(np.min(Valor),3))\n",
        "print('El valor del Rango es:     ', round(np.max(Valor),3)- round(np.min(Valor),3))\n"
      ],
      "metadata": {
        "colab": {
          "base_uri": "https://localhost:8080/"
        },
        "id": "gp4z4dxDtPxF",
        "outputId": "f87ad561-111f-4db5-fdcc-024a5dd9dd46"
      },
      "execution_count": 15,
      "outputs": [
        {
          "output_type": "stream",
          "name": "stdout",
          "text": [
            "El valor de la media es:      3042.377\n",
            "El valor de la Mediana es:      2972.525\n",
            "El valor de la Desviacion estandar es:      730.324\n",
            "El valor del Maximo es:      5061.21\n",
            "El valor del Minimo es:      1846.12\n",
            "El valor del Rango es:      3215.09\n"
          ]
        }
      ]
    },
    {
      "cell_type": "code",
      "source": [
        "#Punto 3\n",
        "dftrm.info()\n"
      ],
      "metadata": {
        "colab": {
          "base_uri": "https://localhost:8080/"
        },
        "id": "ZOYvEhQjnq9X",
        "outputId": "eb76b61c-13da-40db-f35f-3962b6e3a9d7"
      },
      "execution_count": 33,
      "outputs": [
        {
          "output_type": "stream",
          "name": "stdout",
          "text": [
            "<class 'pandas.core.frame.DataFrame'>\n",
            "RangeIndex: 1000 entries, 0 to 999\n",
            "Data columns (total 6 columns):\n",
            " #   Column         Non-Null Count  Dtype         \n",
            "---  ------         --------------  -----         \n",
            " 0   valor          1000 non-null   object        \n",
            " 1   unidad         1000 non-null   object        \n",
            " 2   vigenciadesde  1000 non-null   object        \n",
            " 3   vigenciahasta  1000 non-null   object        \n",
            " 4   Valor_n        1000 non-null   float64       \n",
            " 5   Fecha_n        1000 non-null   datetime64[ns]\n",
            "dtypes: datetime64[ns](1), float64(1), object(4)\n",
            "memory usage: 47.0+ KB\n"
          ]
        }
      ]
    },
    {
      "cell_type": "code",
      "source": [
        "dftrm['Valor_n']=Valor\n",
        "dftrm['Fecha_n']=Fecha\n",
        "dftrm"
      ],
      "metadata": {
        "colab": {
          "base_uri": "https://localhost:8080/",
          "height": 424
        },
        "id": "V-eP3ccan4Br",
        "outputId": "ed1659ba-affc-4597-f13d-b4fac8da6c69"
      },
      "execution_count": 18,
      "outputs": [
        {
          "output_type": "execute_result",
          "data": {
            "text/plain": [
              "       valor unidad            vigenciadesde            vigenciahasta  \\\n",
              "0    4761.64    COP  2022-12-22T00:00:00.000  2022-12-22T00:00:00.000   \n",
              "1    4781.28    COP  2022-12-20T00:00:00.000  2022-12-20T00:00:00.000   \n",
              "2    4802.48    COP  2022-12-17T00:00:00.000  2022-12-19T00:00:00.000   \n",
              "3    4836.24    COP  2022-12-13T00:00:00.000  2022-12-13T00:00:00.000   \n",
              "4    4815.99    COP  2022-12-10T00:00:00.000  2022-12-12T00:00:00.000   \n",
              "..       ...    ...                      ...                      ...   \n",
              "995  1978.63    COP  2014-03-26T00:00:00.000  2014-03-26T00:00:00.000   \n",
              "996  1993.85    COP  2014-03-22T00:00:00.000  2014-03-25T00:00:00.000   \n",
              "997   1998.6    COP  2014-03-21T00:00:00.000  2014-03-21T00:00:00.000   \n",
              "998  2017.38    COP  2014-03-20T00:00:00.000  2014-03-20T00:00:00.000   \n",
              "999  2034.86    COP  2014-03-19T00:00:00.000  2014-03-19T00:00:00.000   \n",
              "\n",
              "     Valor_n    Fecha_n  \n",
              "0    4761.64 2022-12-22  \n",
              "1    4781.28 2022-12-20  \n",
              "2    4802.48 2022-12-17  \n",
              "3    4836.24 2022-12-13  \n",
              "4    4815.99 2022-12-10  \n",
              "..       ...        ...  \n",
              "995  1978.63 2014-03-26  \n",
              "996  1993.85 2014-03-22  \n",
              "997  1998.60 2014-03-21  \n",
              "998  2017.38 2014-03-20  \n",
              "999  2034.86 2014-03-19  \n",
              "\n",
              "[1000 rows x 6 columns]"
            ],
            "text/html": [
              "\n",
              "  <div id=\"df-26d53cbc-28d4-48e1-a2df-7e0de63522da\">\n",
              "    <div class=\"colab-df-container\">\n",
              "      <div>\n",
              "<style scoped>\n",
              "    .dataframe tbody tr th:only-of-type {\n",
              "        vertical-align: middle;\n",
              "    }\n",
              "\n",
              "    .dataframe tbody tr th {\n",
              "        vertical-align: top;\n",
              "    }\n",
              "\n",
              "    .dataframe thead th {\n",
              "        text-align: right;\n",
              "    }\n",
              "</style>\n",
              "<table border=\"1\" class=\"dataframe\">\n",
              "  <thead>\n",
              "    <tr style=\"text-align: right;\">\n",
              "      <th></th>\n",
              "      <th>valor</th>\n",
              "      <th>unidad</th>\n",
              "      <th>vigenciadesde</th>\n",
              "      <th>vigenciahasta</th>\n",
              "      <th>Valor_n</th>\n",
              "      <th>Fecha_n</th>\n",
              "    </tr>\n",
              "  </thead>\n",
              "  <tbody>\n",
              "    <tr>\n",
              "      <th>0</th>\n",
              "      <td>4761.64</td>\n",
              "      <td>COP</td>\n",
              "      <td>2022-12-22T00:00:00.000</td>\n",
              "      <td>2022-12-22T00:00:00.000</td>\n",
              "      <td>4761.64</td>\n",
              "      <td>2022-12-22</td>\n",
              "    </tr>\n",
              "    <tr>\n",
              "      <th>1</th>\n",
              "      <td>4781.28</td>\n",
              "      <td>COP</td>\n",
              "      <td>2022-12-20T00:00:00.000</td>\n",
              "      <td>2022-12-20T00:00:00.000</td>\n",
              "      <td>4781.28</td>\n",
              "      <td>2022-12-20</td>\n",
              "    </tr>\n",
              "    <tr>\n",
              "      <th>2</th>\n",
              "      <td>4802.48</td>\n",
              "      <td>COP</td>\n",
              "      <td>2022-12-17T00:00:00.000</td>\n",
              "      <td>2022-12-19T00:00:00.000</td>\n",
              "      <td>4802.48</td>\n",
              "      <td>2022-12-17</td>\n",
              "    </tr>\n",
              "    <tr>\n",
              "      <th>3</th>\n",
              "      <td>4836.24</td>\n",
              "      <td>COP</td>\n",
              "      <td>2022-12-13T00:00:00.000</td>\n",
              "      <td>2022-12-13T00:00:00.000</td>\n",
              "      <td>4836.24</td>\n",
              "      <td>2022-12-13</td>\n",
              "    </tr>\n",
              "    <tr>\n",
              "      <th>4</th>\n",
              "      <td>4815.99</td>\n",
              "      <td>COP</td>\n",
              "      <td>2022-12-10T00:00:00.000</td>\n",
              "      <td>2022-12-12T00:00:00.000</td>\n",
              "      <td>4815.99</td>\n",
              "      <td>2022-12-10</td>\n",
              "    </tr>\n",
              "    <tr>\n",
              "      <th>...</th>\n",
              "      <td>...</td>\n",
              "      <td>...</td>\n",
              "      <td>...</td>\n",
              "      <td>...</td>\n",
              "      <td>...</td>\n",
              "      <td>...</td>\n",
              "    </tr>\n",
              "    <tr>\n",
              "      <th>995</th>\n",
              "      <td>1978.63</td>\n",
              "      <td>COP</td>\n",
              "      <td>2014-03-26T00:00:00.000</td>\n",
              "      <td>2014-03-26T00:00:00.000</td>\n",
              "      <td>1978.63</td>\n",
              "      <td>2014-03-26</td>\n",
              "    </tr>\n",
              "    <tr>\n",
              "      <th>996</th>\n",
              "      <td>1993.85</td>\n",
              "      <td>COP</td>\n",
              "      <td>2014-03-22T00:00:00.000</td>\n",
              "      <td>2014-03-25T00:00:00.000</td>\n",
              "      <td>1993.85</td>\n",
              "      <td>2014-03-22</td>\n",
              "    </tr>\n",
              "    <tr>\n",
              "      <th>997</th>\n",
              "      <td>1998.6</td>\n",
              "      <td>COP</td>\n",
              "      <td>2014-03-21T00:00:00.000</td>\n",
              "      <td>2014-03-21T00:00:00.000</td>\n",
              "      <td>1998.60</td>\n",
              "      <td>2014-03-21</td>\n",
              "    </tr>\n",
              "    <tr>\n",
              "      <th>998</th>\n",
              "      <td>2017.38</td>\n",
              "      <td>COP</td>\n",
              "      <td>2014-03-20T00:00:00.000</td>\n",
              "      <td>2014-03-20T00:00:00.000</td>\n",
              "      <td>2017.38</td>\n",
              "      <td>2014-03-20</td>\n",
              "    </tr>\n",
              "    <tr>\n",
              "      <th>999</th>\n",
              "      <td>2034.86</td>\n",
              "      <td>COP</td>\n",
              "      <td>2014-03-19T00:00:00.000</td>\n",
              "      <td>2014-03-19T00:00:00.000</td>\n",
              "      <td>2034.86</td>\n",
              "      <td>2014-03-19</td>\n",
              "    </tr>\n",
              "  </tbody>\n",
              "</table>\n",
              "<p>1000 rows × 6 columns</p>\n",
              "</div>\n",
              "      <button class=\"colab-df-convert\" onclick=\"convertToInteractive('df-26d53cbc-28d4-48e1-a2df-7e0de63522da')\"\n",
              "              title=\"Convert this dataframe to an interactive table.\"\n",
              "              style=\"display:none;\">\n",
              "        \n",
              "  <svg xmlns=\"http://www.w3.org/2000/svg\" height=\"24px\"viewBox=\"0 0 24 24\"\n",
              "       width=\"24px\">\n",
              "    <path d=\"M0 0h24v24H0V0z\" fill=\"none\"/>\n",
              "    <path d=\"M18.56 5.44l.94 2.06.94-2.06 2.06-.94-2.06-.94-.94-2.06-.94 2.06-2.06.94zm-11 1L8.5 8.5l.94-2.06 2.06-.94-2.06-.94L8.5 2.5l-.94 2.06-2.06.94zm10 10l.94 2.06.94-2.06 2.06-.94-2.06-.94-.94-2.06-.94 2.06-2.06.94z\"/><path d=\"M17.41 7.96l-1.37-1.37c-.4-.4-.92-.59-1.43-.59-.52 0-1.04.2-1.43.59L10.3 9.45l-7.72 7.72c-.78.78-.78 2.05 0 2.83L4 21.41c.39.39.9.59 1.41.59.51 0 1.02-.2 1.41-.59l7.78-7.78 2.81-2.81c.8-.78.8-2.07 0-2.86zM5.41 20L4 18.59l7.72-7.72 1.47 1.35L5.41 20z\"/>\n",
              "  </svg>\n",
              "      </button>\n",
              "      \n",
              "  <style>\n",
              "    .colab-df-container {\n",
              "      display:flex;\n",
              "      flex-wrap:wrap;\n",
              "      gap: 12px;\n",
              "    }\n",
              "\n",
              "    .colab-df-convert {\n",
              "      background-color: #E8F0FE;\n",
              "      border: none;\n",
              "      border-radius: 50%;\n",
              "      cursor: pointer;\n",
              "      display: none;\n",
              "      fill: #1967D2;\n",
              "      height: 32px;\n",
              "      padding: 0 0 0 0;\n",
              "      width: 32px;\n",
              "    }\n",
              "\n",
              "    .colab-df-convert:hover {\n",
              "      background-color: #E2EBFA;\n",
              "      box-shadow: 0px 1px 2px rgba(60, 64, 67, 0.3), 0px 1px 3px 1px rgba(60, 64, 67, 0.15);\n",
              "      fill: #174EA6;\n",
              "    }\n",
              "\n",
              "    [theme=dark] .colab-df-convert {\n",
              "      background-color: #3B4455;\n",
              "      fill: #D2E3FC;\n",
              "    }\n",
              "\n",
              "    [theme=dark] .colab-df-convert:hover {\n",
              "      background-color: #434B5C;\n",
              "      box-shadow: 0px 1px 3px 1px rgba(0, 0, 0, 0.15);\n",
              "      filter: drop-shadow(0px 1px 2px rgba(0, 0, 0, 0.3));\n",
              "      fill: #FFFFFF;\n",
              "    }\n",
              "  </style>\n",
              "\n",
              "      <script>\n",
              "        const buttonEl =\n",
              "          document.querySelector('#df-26d53cbc-28d4-48e1-a2df-7e0de63522da button.colab-df-convert');\n",
              "        buttonEl.style.display =\n",
              "          google.colab.kernel.accessAllowed ? 'block' : 'none';\n",
              "\n",
              "        async function convertToInteractive(key) {\n",
              "          const element = document.querySelector('#df-26d53cbc-28d4-48e1-a2df-7e0de63522da');\n",
              "          const dataTable =\n",
              "            await google.colab.kernel.invokeFunction('convertToInteractive',\n",
              "                                                     [key], {});\n",
              "          if (!dataTable) return;\n",
              "\n",
              "          const docLinkHtml = 'Like what you see? Visit the ' +\n",
              "            '<a target=\"_blank\" href=https://colab.research.google.com/notebooks/data_table.ipynb>data table notebook</a>'\n",
              "            + ' to learn more about interactive tables.';\n",
              "          element.innerHTML = '';\n",
              "          dataTable['output_type'] = 'display_data';\n",
              "          await google.colab.output.renderOutput(dataTable, element);\n",
              "          const docLink = document.createElement('div');\n",
              "          docLink.innerHTML = docLinkHtml;\n",
              "          element.appendChild(docLink);\n",
              "        }\n",
              "      </script>\n",
              "    </div>\n",
              "  </div>\n",
              "  "
            ]
          },
          "metadata": {},
          "execution_count": 18
        }
      ]
    },
    {
      "cell_type": "code",
      "source": [
        "dftrm.describe()"
      ],
      "metadata": {
        "colab": {
          "base_uri": "https://localhost:8080/",
          "height": 300
        },
        "id": "BnhODYG9o8tk",
        "outputId": "ea475c71-1496-471a-d351-70c766e9b68b"
      },
      "execution_count": 19,
      "outputs": [
        {
          "output_type": "execute_result",
          "data": {
            "text/plain": [
              "           Valor_n\n",
              "count  1000.000000\n",
              "mean   3042.376510\n",
              "std     730.689006\n",
              "min    1846.120000\n",
              "25%    2500.497500\n",
              "50%    2972.525000\n",
              "75%    3646.340000\n",
              "max    5061.210000"
            ],
            "text/html": [
              "\n",
              "  <div id=\"df-92398650-0b6d-4525-b235-7e66fed95c4e\">\n",
              "    <div class=\"colab-df-container\">\n",
              "      <div>\n",
              "<style scoped>\n",
              "    .dataframe tbody tr th:only-of-type {\n",
              "        vertical-align: middle;\n",
              "    }\n",
              "\n",
              "    .dataframe tbody tr th {\n",
              "        vertical-align: top;\n",
              "    }\n",
              "\n",
              "    .dataframe thead th {\n",
              "        text-align: right;\n",
              "    }\n",
              "</style>\n",
              "<table border=\"1\" class=\"dataframe\">\n",
              "  <thead>\n",
              "    <tr style=\"text-align: right;\">\n",
              "      <th></th>\n",
              "      <th>Valor_n</th>\n",
              "    </tr>\n",
              "  </thead>\n",
              "  <tbody>\n",
              "    <tr>\n",
              "      <th>count</th>\n",
              "      <td>1000.000000</td>\n",
              "    </tr>\n",
              "    <tr>\n",
              "      <th>mean</th>\n",
              "      <td>3042.376510</td>\n",
              "    </tr>\n",
              "    <tr>\n",
              "      <th>std</th>\n",
              "      <td>730.689006</td>\n",
              "    </tr>\n",
              "    <tr>\n",
              "      <th>min</th>\n",
              "      <td>1846.120000</td>\n",
              "    </tr>\n",
              "    <tr>\n",
              "      <th>25%</th>\n",
              "      <td>2500.497500</td>\n",
              "    </tr>\n",
              "    <tr>\n",
              "      <th>50%</th>\n",
              "      <td>2972.525000</td>\n",
              "    </tr>\n",
              "    <tr>\n",
              "      <th>75%</th>\n",
              "      <td>3646.340000</td>\n",
              "    </tr>\n",
              "    <tr>\n",
              "      <th>max</th>\n",
              "      <td>5061.210000</td>\n",
              "    </tr>\n",
              "  </tbody>\n",
              "</table>\n",
              "</div>\n",
              "      <button class=\"colab-df-convert\" onclick=\"convertToInteractive('df-92398650-0b6d-4525-b235-7e66fed95c4e')\"\n",
              "              title=\"Convert this dataframe to an interactive table.\"\n",
              "              style=\"display:none;\">\n",
              "        \n",
              "  <svg xmlns=\"http://www.w3.org/2000/svg\" height=\"24px\"viewBox=\"0 0 24 24\"\n",
              "       width=\"24px\">\n",
              "    <path d=\"M0 0h24v24H0V0z\" fill=\"none\"/>\n",
              "    <path d=\"M18.56 5.44l.94 2.06.94-2.06 2.06-.94-2.06-.94-.94-2.06-.94 2.06-2.06.94zm-11 1L8.5 8.5l.94-2.06 2.06-.94-2.06-.94L8.5 2.5l-.94 2.06-2.06.94zm10 10l.94 2.06.94-2.06 2.06-.94-2.06-.94-.94-2.06-.94 2.06-2.06.94z\"/><path d=\"M17.41 7.96l-1.37-1.37c-.4-.4-.92-.59-1.43-.59-.52 0-1.04.2-1.43.59L10.3 9.45l-7.72 7.72c-.78.78-.78 2.05 0 2.83L4 21.41c.39.39.9.59 1.41.59.51 0 1.02-.2 1.41-.59l7.78-7.78 2.81-2.81c.8-.78.8-2.07 0-2.86zM5.41 20L4 18.59l7.72-7.72 1.47 1.35L5.41 20z\"/>\n",
              "  </svg>\n",
              "      </button>\n",
              "      \n",
              "  <style>\n",
              "    .colab-df-container {\n",
              "      display:flex;\n",
              "      flex-wrap:wrap;\n",
              "      gap: 12px;\n",
              "    }\n",
              "\n",
              "    .colab-df-convert {\n",
              "      background-color: #E8F0FE;\n",
              "      border: none;\n",
              "      border-radius: 50%;\n",
              "      cursor: pointer;\n",
              "      display: none;\n",
              "      fill: #1967D2;\n",
              "      height: 32px;\n",
              "      padding: 0 0 0 0;\n",
              "      width: 32px;\n",
              "    }\n",
              "\n",
              "    .colab-df-convert:hover {\n",
              "      background-color: #E2EBFA;\n",
              "      box-shadow: 0px 1px 2px rgba(60, 64, 67, 0.3), 0px 1px 3px 1px rgba(60, 64, 67, 0.15);\n",
              "      fill: #174EA6;\n",
              "    }\n",
              "\n",
              "    [theme=dark] .colab-df-convert {\n",
              "      background-color: #3B4455;\n",
              "      fill: #D2E3FC;\n",
              "    }\n",
              "\n",
              "    [theme=dark] .colab-df-convert:hover {\n",
              "      background-color: #434B5C;\n",
              "      box-shadow: 0px 1px 3px 1px rgba(0, 0, 0, 0.15);\n",
              "      filter: drop-shadow(0px 1px 2px rgba(0, 0, 0, 0.3));\n",
              "      fill: #FFFFFF;\n",
              "    }\n",
              "  </style>\n",
              "\n",
              "      <script>\n",
              "        const buttonEl =\n",
              "          document.querySelector('#df-92398650-0b6d-4525-b235-7e66fed95c4e button.colab-df-convert');\n",
              "        buttonEl.style.display =\n",
              "          google.colab.kernel.accessAllowed ? 'block' : 'none';\n",
              "\n",
              "        async function convertToInteractive(key) {\n",
              "          const element = document.querySelector('#df-92398650-0b6d-4525-b235-7e66fed95c4e');\n",
              "          const dataTable =\n",
              "            await google.colab.kernel.invokeFunction('convertToInteractive',\n",
              "                                                     [key], {});\n",
              "          if (!dataTable) return;\n",
              "\n",
              "          const docLinkHtml = 'Like what you see? Visit the ' +\n",
              "            '<a target=\"_blank\" href=https://colab.research.google.com/notebooks/data_table.ipynb>data table notebook</a>'\n",
              "            + ' to learn more about interactive tables.';\n",
              "          element.innerHTML = '';\n",
              "          dataTable['output_type'] = 'display_data';\n",
              "          await google.colab.output.renderOutput(dataTable, element);\n",
              "          const docLink = document.createElement('div');\n",
              "          docLink.innerHTML = docLinkHtml;\n",
              "          element.appendChild(docLink);\n",
              "        }\n",
              "      </script>\n",
              "    </div>\n",
              "  </div>\n",
              "  "
            ]
          },
          "metadata": {},
          "execution_count": 19
        }
      ]
    },
    {
      "cell_type": "code",
      "source": [],
      "metadata": {
        "id": "JnSiSjDNCMTI"
      },
      "execution_count": null,
      "outputs": []
    },
    {
      "cell_type": "code",
      "source": [
        "#punto 4 informacion general\n",
        "dftrm.info()"
      ],
      "metadata": {
        "colab": {
          "base_uri": "https://localhost:8080/"
        },
        "id": "dMFGTOahpUol",
        "outputId": "2a6cf92f-ad5f-4092-991c-8bbf6ff3aa22"
      },
      "execution_count": 20,
      "outputs": [
        {
          "output_type": "stream",
          "name": "stdout",
          "text": [
            "<class 'pandas.core.frame.DataFrame'>\n",
            "RangeIndex: 1000 entries, 0 to 999\n",
            "Data columns (total 6 columns):\n",
            " #   Column         Non-Null Count  Dtype         \n",
            "---  ------         --------------  -----         \n",
            " 0   valor          1000 non-null   object        \n",
            " 1   unidad         1000 non-null   object        \n",
            " 2   vigenciadesde  1000 non-null   object        \n",
            " 3   vigenciahasta  1000 non-null   object        \n",
            " 4   Valor_n        1000 non-null   float64       \n",
            " 5   Fecha_n        1000 non-null   datetime64[ns]\n",
            "dtypes: datetime64[ns](1), float64(1), object(4)\n",
            "memory usage: 47.0+ KB\n"
          ]
        }
      ]
    },
    {
      "cell_type": "markdown",
      "source": [
        "Analisis de Data set: Al evidenciar que el Data set original no cuenta con los tipos de datos semejantes, se realizo una conversion a numeros flotentes de la columna 'Valor'y de la columna 'vigenciahasta' a formato fecha,  que luego fueron adjuntadas al Dataframe"
      ],
      "metadata": {
        "id": "3XnIzfheps-5"
      }
    },
    {
      "cell_type": "code",
      "source": [
        "#ordenamos las fechas y valores\n",
        "data_o=dftrm.sort_values(by=['Fecha_n'])\n",
        "data_ov=dftrm.sort_values(by=['Valor_n'])\n",
        "valores=list(data_o['Valor_n'])\n",
        "tiempo=list(data_o['Fecha_n'])\n",
        "plt.plot(tiempo,valores)\n",
        "plt.xlabel('Tiempo')\n",
        "plt.ylabel('Pesos colombianos')\n",
        "plt.title('Variacion del dolar')\n",
        "plt.grid()\n",
        "plt.show()\n",
        "\n",
        "\n",
        "\n"
      ],
      "metadata": {
        "colab": {
          "base_uri": "https://localhost:8080/",
          "height": 472
        },
        "id": "-IjcCpCqsSju",
        "outputId": "38bcc9e8-761e-4103-970c-c633b1a54665"
      },
      "execution_count": 31,
      "outputs": [
        {
          "output_type": "display_data",
          "data": {
            "text/plain": [
              "<Figure size 640x480 with 1 Axes>"
            ],
            "image/png": "[encoded data removed]"
          },
          "metadata": {}
        }
      ]
    },
    {
      "cell_type": "markdown",
      "source": [],
      "metadata": {
        "id": "NQ8hDDziwBxd"
      }
    },
    {
      "cell_type": "markdown",
      "source": [
        "En esta grafica podemos observar como se ha venido comportando el precio del dolar desde el 2014 hasta el 2023, vemos que durante casi una decada ha tenido un alza importante, llegando a final del 2022 a su punto maximo a mas  de 5.000 pesos, situacion que procupa mucho al pais, ya que siendo un lugar donde su mayor comercio son las importaciones, el alza del dolar afecta mucho a este comercio, afectando tambien empleos, y las microempresas que a final de cuentas son mas del 80 % del la industria en colombia."
      ],
      "metadata": {
        "id": "ZfnYD_k6wC5V"
      }
    }
  ]
}